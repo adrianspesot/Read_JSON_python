{
 "cells": [
  {
   "cell_type": "markdown",
   "metadata": {},
   "source": [
    "# Visualizar DataFrame de un JSON desde ordenador"
   ]
  },
  {
   "cell_type": "code",
   "execution_count": 16,
   "metadata": {},
   "outputs": [],
   "source": [
    "#Librerias utilizadas\n",
    "\n",
    "import pandas as pd\n",
    "import json\n"
   ]
  },
  {
   "cell_type": "code",
   "execution_count": 4,
   "metadata": {},
   "outputs": [
    {
     "data": {
      "text/plain": [
       "{'description': 'Estadística General de Radicaciones Iniciadas y Resueltas.',\n",
       " 'license': {'type': 'notspecified', 'title': 'License not specified'},\n",
       " 'title': 'Migraciones, Argentina',\n",
       " 'keywords': ['argentina'],\n",
       " 'resources': [{'path': 'http://www.migraciones.gov.ar/accesible/?estadisticas',\n",
       "   'title': 'Dirección Nacional de Migraciones',\n",
       "   'name': 'direccion-nacional-de-migraciones',\n",
       "   'format': 'HTML'}],\n",
       " 'name': 'migraciones-argentina'}"
      ]
     },
     "execution_count": 4,
     "metadata": {},
     "output_type": "execute_result"
    }
   ],
   "source": [
    "# Usamos el método Open para abrir el archivo JSON, luego lo cargamos con el método json.load()\n",
    "# Logramos visualizar el archivo\n",
    "load_json = json.load(open(\"datapackage.json\"))"
   ]
  },
  {
   "cell_type": "markdown",
   "metadata": {},
   "source": [
    "### Apertura del archivo creando un DataFrame directamente con pandas"
   ]
  },
  {
   "cell_type": "code",
   "execution_count": 14,
   "metadata": {},
   "outputs": [
    {
     "data": {
      "text/html": [
       "<div>\n",
       "<style scoped>\n",
       "    .dataframe tbody tr th:only-of-type {\n",
       "        vertical-align: middle;\n",
       "    }\n",
       "\n",
       "    .dataframe tbody tr th {\n",
       "        vertical-align: top;\n",
       "    }\n",
       "\n",
       "    .dataframe thead th {\n",
       "        text-align: right;\n",
       "    }\n",
       "</style>\n",
       "<table border=\"1\" class=\"dataframe\">\n",
       "  <thead>\n",
       "    <tr style=\"text-align: right;\">\n",
       "      <th></th>\n",
       "      <th>description</th>\n",
       "      <th>license</th>\n",
       "      <th>title</th>\n",
       "      <th>keywords</th>\n",
       "      <th>resources</th>\n",
       "      <th>name</th>\n",
       "    </tr>\n",
       "  </thead>\n",
       "  <tbody>\n",
       "    <tr>\n",
       "      <th>0</th>\n",
       "      <td>Estadística General de Radicaciones Iniciadas ...</td>\n",
       "      <td>{'type': 'notspecified', 'title': 'License not...</td>\n",
       "      <td>Migraciones, Argentina</td>\n",
       "      <td>[argentina]</td>\n",
       "      <td>[{'path': 'http://www.migraciones.gov.ar/acces...</td>\n",
       "      <td>migraciones-argentina</td>\n",
       "    </tr>\n",
       "  </tbody>\n",
       "</table>\n",
       "</div>"
      ],
      "text/plain": [
       "                                         description  \\\n",
       "0  Estadística General de Radicaciones Iniciadas ...   \n",
       "\n",
       "                                             license                   title  \\\n",
       "0  {'type': 'notspecified', 'title': 'License not...  Migraciones, Argentina   \n",
       "\n",
       "      keywords                                          resources  \\\n",
       "0  [argentina]  [{'path': 'http://www.migraciones.gov.ar/acces...   \n",
       "\n",
       "                    name  \n",
       "0  migraciones-argentina  "
      ]
     },
     "execution_count": 14,
     "metadata": {},
     "output_type": "execute_result"
    }
   ],
   "source": [
    "\n",
    "df_json = pd.read_json(\"datapackage.json\",orient ='index')\n",
    "df_json.T"
   ]
  }
 ],
 "metadata": {
  "kernelspec": {
   "display_name": "Python 3.9.12 ('envgeneral')",
   "language": "python",
   "name": "python3"
  },
  "language_info": {
   "codemirror_mode": {
    "name": "ipython",
    "version": 3
   },
   "file_extension": ".py",
   "mimetype": "text/x-python",
   "name": "python",
   "nbconvert_exporter": "python",
   "pygments_lexer": "ipython3",
   "version": "3.9.12"
  },
  "orig_nbformat": 4,
  "vscode": {
   "interpreter": {
    "hash": "a67534fc7dc9ab933b525f9a85f065a5cec0038cdad45e321de2f98b1370ea6f"
   }
  }
 },
 "nbformat": 4,
 "nbformat_minor": 2
}
